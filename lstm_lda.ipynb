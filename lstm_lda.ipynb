{
 "cells": [
  {
   "cell_type": "code",
   "execution_count": 1,
   "metadata": {
    "scrolled": false
   },
   "outputs": [],
   "source": [
    "# !pip install nltk pandas numpy scipy keras tensorflow sklearn\n",
    "# import nltk\n",
    "# nltk.download('stopwords')\n",
    "# nltk.download('wordnet')"
   ]
  },
  {
   "cell_type": "code",
   "execution_count": null,
   "metadata": {},
   "outputs": [],
   "source": [
    "import json\n",
    "import nltk\n",
    "import lda2\n",
    "import string\n",
    "import copy\n",
    "import pandas as pd\n",
    "import numpy as np\n",
    "import keras.backend as K\n",
    "\n",
    "from keras import regularizers\n",
    "from keras.models import Model\n",
    "from numpy import linalg as LA\n",
    "from nltk.corpus import stopwords\n",
    "from scipy.special import gammaln\n",
    "from keras.models import Sequential\n",
    "from scipy.sparse import csr_matrix\n",
    "from keras.preprocessing.text import Tokenizer\n",
    "from keras.preprocessing.sequence import pad_sequences\n",
    "from sklearn.feature_extraction.text import CountVectorizer\n",
    "from sklearn.decomposition import LatentDirichletAllocation\n",
    "from sklearn.feature_extraction.text import TfidfVectorizer\n",
    "from keras.layers import Dense, Activation, Embedding, LSTM"
   ]
  },
  {
   "cell_type": "code",
   "execution_count": null,
   "metadata": {},
   "outputs": [],
   "source": []
  },
  {
   "cell_type": "code",
   "execution_count": 3,
   "metadata": {},
   "outputs": [],
   "source": [
    "def preprocess(pd):\n",
    "    pd = pd.str.lower()\n",
    "    pd = pd.str.replace('[{}]'.format(string.punctuation), ' ')\n",
    "    pd = pd.apply(lambda x: [lemmatizer.lemmatize(w) for w in w_tokenizer.tokenize(x)])\n",
    "    pd = pd.apply(lambda x: [item for item in x if item not in stop_words])\n",
    "    return pd.str.join(' ')"
   ]
  },
  {
   "cell_type": "code",
   "execution_count": 4,
   "metadata": {},
   "outputs": [],
   "source": [
    "def get_x_lstm(max_vocab, vocab):\n",
    "    tokenizer = Tokenizer(nb_words=max_vocab, lower=True, split=' ')\n",
    "    tokenizer.fit_on_texts(vocab)\n",
    "    X = tokenizer.texts_to_sequences(vocab)\n",
    "    return pad_sequences(X)"
   ]
  },
  {
   "cell_type": "code",
   "execution_count": 5,
   "metadata": {},
   "outputs": [],
   "source": [
    "def sampleFromDirichlet(alpha):\n",
    "    return np.random.dirichlet(alpha)\n",
    "\n",
    "def sampleFromCategorical(theta):\n",
    "#     theta = theta/np.sum(theta)\n",
    "    theta = np.exp(theta)/np.exp(theta).sum()\n",
    "    return np.random.multinomial(1, theta).argmax()\n",
    "\n",
    "def word_indices(wordOccuranceVec):\n",
    "    for idx in wordOccuranceVec.nonzero()[0]:\n",
    "        for i in range(int(wordOccuranceVec[idx])):\n",
    "            yield idx"
   ]
  },
  {
   "cell_type": "code",
   "execution_count": 6,
   "metadata": {},
   "outputs": [],
   "source": [
    "# class SentimentLDAGibbsSampler:\n",
    "#     def __init__(self, numTopics, alpha, beta):\n",
    "#         self.alpha = alpha\n",
    "#         self.beta = beta\n",
    "#         self.numTopics = numTopics\n",
    "#         self.probabilities_t = {}\n",
    "\n",
    "#     def processReviews(self, reviews):\n",
    "#         self.vectorizer = CountVectorizer(analyzer=\"word\",tokenizer=None,preprocessor=None,\n",
    "#                                           stop_words=\"english\",max_features=MAX_VOCAB_SIZE,max_df=.5,min_df=5)\n",
    "#         train_data_features = self.vectorizer.fit_transform(reviews)\n",
    "#         words = self.vectorizer.get_feature_names()\n",
    "#         self.vocabulary = dict(zip(words,np.arange(len(words))))\n",
    "#         self.inv_vocabulary = dict(zip(np.arange(len(words)),words))\n",
    "#         wordOccurenceMatrix = train_data_features.toarray()\n",
    "#         return wordOccurenceMatrix\n",
    "\n",
    "#     def _initialize_(self, reviews, V_weights):\n",
    "#         self.wordOccuranceMatrix = self.processReviews(reviews)\n",
    "#         numDocs, vocabSize = self.wordOccuranceMatrix.shape\n",
    "        \n",
    "#         # Pseudocounts\n",
    "#         self.n_dt = np.zeros((numDocs, self.numTopics))\n",
    "#         self.n_t = np.zeros((self.numTopics))\n",
    "#         self.n_d = np.zeros((numDocs))\n",
    "#         self.n_vt = np.zeros((vocabSize, self.numTopics))\n",
    "#         self.dt_distribution = np.zeros((numDocs, self.numTopics))\n",
    "# #         self.t_distribution = np.zeros((self.numTopics))\n",
    "#         self.topics = {}\n",
    "\n",
    "#         self.alphaVec = self.alpha.copy()\n",
    "\n",
    "#         for d in range(numDocs):            \n",
    "# #             topicDistribution = sampleFromDirichlet(self.alphaVec)\n",
    "#             topicDistribution = V_weights[d]\n",
    "            \n",
    "#             for i, w in enumerate(word_indices(self.wordOccuranceMatrix[d, :])):\n",
    "#                 t = sampleFromCategorical(topicDistribution)\n",
    "\n",
    "#                 self.topics[(d, i)] = t\n",
    "#                 self.n_dt[d, t] += 1\n",
    "#                 self.n_d[d] += 1\n",
    "#                 self.n_vt[w, t] += 1\n",
    "#                 self.n_t[t] += 1\n",
    "\n",
    "#             self.dt_distribution[d,:] = (self.n_dt[d] + self.alphaVec) / (self.n_d[d] + np.sum(self.alphaVec))\n",
    "            \n",
    "#     def conditionalDistribution(self, d, v):\n",
    "#         probabilities_t = np.ones((self.numTopics))\n",
    "        \n",
    "#         firstFactor = (self.n_dt[d,:] + self.alphaVec) / (self.n_d[d] + np.sum(self.alphaVec))\n",
    "#         thirdFactor = (self.n_vt[v, :] + self.beta) / (self.n_t + self.n_vt.shape[0] * self.beta)\n",
    "\n",
    "#         probabilities_t *= firstFactor[:]\n",
    "#         probabilities_t *= thirdFactor\n",
    "#         probabilities_t /= np.sum(probabilities_t)\n",
    "#         return probabilities_t\n",
    "\n",
    "#     def run(self, reviews, V_weights, maxIters=100):\n",
    "#         self._initialize_(reviews, V_weights)\n",
    "#         self.loglikelihoods = np.zeros(maxIters)\n",
    "#         numDocs, vocabSize = self.wordOccuranceMatrix.shape\n",
    "\n",
    "#         for iteration in range(maxIters):\n",
    "#             print (\"Starting iteration %d of %d\" % (iteration + 1, maxIters))\n",
    "#             loglikelihood = 0\n",
    "#             for d in range(numDocs):\n",
    "#                 for i, v in enumerate(word_indices(self.wordOccuranceMatrix[d, :])):\n",
    "#                     t = self.topics[(d, i)]\n",
    "                \n",
    "#                     self.n_dt[d, t] -= 1\n",
    "#                     self.n_d[d] -= 1\n",
    "#                     self.n_t[t] -= 1\n",
    "#                     self.n_vt[v, t] -= 1\n",
    "\n",
    "#                     probabilities_t = self.conditionalDistribution(d, v)\n",
    "#                     t = sampleFromCategorical(probabilities_t)\n",
    "#                     self.probabilities_t[(d,v)] = probabilities_t[t]\n",
    "                    \n",
    "#                     self.topics[(d, i)] = t\n",
    "#                     self.n_dt[d, t] += 1\n",
    "#                     self.n_d[d] += 1\n",
    "#                     self.n_vt[v, t] += 1\n",
    "#                     self.n_t[t] += 1\n",
    "                \n",
    "#                 if iteration == maxIters - 1:\n",
    "#                     self.dt_distribution[d,:] = (self.n_dt[d] + self.alphaVec) / (self.n_d[d] + np.sum(self.alphaVec))\n",
    "#                     self.dt_distribution = self.dt_distribution/np.sum(self.dt_distribution, axis=1)[:,np.newaxis]\n",
    "\n",
    "#                 loglikelihood += np.sum(gammaln((self.n_dt[d] + self.alphaVec)\n",
    "#                                                )) - gammaln(np.sum((self.n_dt[d] + self.alphaVec))) \n",
    "#                 loglikelihood -= np.sum(gammaln(self.alphaVec)) - gammaln(np.sum(self.alphaVec))\n",
    "\n",
    "#             for k in range(self.numTopics):\n",
    "#                 loglikelihood += (np.sum(gammaln((self.n_vt[:, k] + self.beta)\n",
    "#                                                 )) - gammaln(np.sum((self.n_vt[:, k] + self.beta))))\n",
    "#                 loglikelihood -= (vocabSize * gammaln(self.beta) - gammaln(vocabSize * self.beta))\n",
    "\n",
    "#             self.loglikelihoods[iteration] = loglikelihood        \n",
    "# #             print (\"Total loglikelihood is {}\".format(loglikelihood))"
   ]
  },
  {
   "cell_type": "code",
   "execution_count": null,
   "metadata": {},
   "outputs": [],
   "source": []
  },
  {
   "cell_type": "code",
   "execution_count": 8,
   "metadata": {},
   "outputs": [],
   "source": [
    "lemmatizer = nltk.stem.WordNetLemmatizer()\n",
    "w_tokenizer = nltk.tokenize.WhitespaceTokenizer()\n",
    "stop_words = stopwords.words('english')"
   ]
  },
  {
   "cell_type": "code",
   "execution_count": null,
   "metadata": {},
   "outputs": [],
   "source": []
  },
  {
   "cell_type": "code",
   "execution_count": 9,
   "metadata": {},
   "outputs": [],
   "source": [
    "dataset = []\n",
    "with open(\"Automotive_5.json\", 'r') as f:\n",
    "    p = f.readlines()\n",
    "    for i in p:\n",
    "        dataset.append(json.loads(i))\n",
    "dataset = pd.DataFrame(dataset)"
   ]
  },
  {
   "cell_type": "code",
   "execution_count": 10,
   "metadata": {},
   "outputs": [],
   "source": [
    "U_user_ids = list(dataset.reviewerID.unique())\n",
    "V_item_ids = list(dataset.asin.unique())"
   ]
  },
  {
   "cell_type": "code",
   "execution_count": 11,
   "metadata": {},
   "outputs": [],
   "source": [
    "M_users_count = len(U_user_ids)\n",
    "N_items_count = len(V_item_ids)"
   ]
  },
  {
   "cell_type": "code",
   "execution_count": 12,
   "metadata": {},
   "outputs": [
    {
     "data": {
      "text/plain": [
       "(2928, 1835)"
      ]
     },
     "execution_count": 12,
     "metadata": {},
     "output_type": "execute_result"
    }
   ],
   "source": [
    "M_users_count, N_items_count"
   ]
  },
  {
   "cell_type": "code",
   "execution_count": null,
   "metadata": {},
   "outputs": [],
   "source": []
  },
  {
   "cell_type": "code",
   "execution_count": 13,
   "metadata": {},
   "outputs": [],
   "source": [
    "numtopics = 5\n",
    "MAX_VOCAB_SIZE = 100\n",
    "lambda_u = lambda_v = 0.1\n",
    "lambda_param = 0.8"
   ]
  },
  {
   "cell_type": "code",
   "execution_count": 14,
   "metadata": {},
   "outputs": [],
   "source": [
    "R_rating = np.zeros((M_users_count, N_items_count))\n",
    "\n",
    "for idx, i in enumerate(dataset[[\"reviewerID\", \"overall\", \"asin\"]].values):\n",
    "    R_rating[U_user_ids.index(i[0])][V_item_ids.index(i[2])] = i[1]\n",
    "        \n",
    "R_rating = R_rating/5"
   ]
  },
  {
   "cell_type": "code",
   "execution_count": 15,
   "metadata": {},
   "outputs": [
    {
     "data": {
      "text/plain": [
       "(1835,)"
      ]
     },
     "execution_count": 15,
     "metadata": {},
     "output_type": "execute_result"
    }
   ],
   "source": [
    "D_combined_reviews = [\"\"] * N_items_count\n",
    "\n",
    "for i in dataset[[\"asin\", \"reviewText\"]].values:\n",
    "    D_combined_reviews[V_item_ids.index(i[0])] += i[1]\n",
    "D_combined_reviews = pd.DataFrame(D_combined_reviews)\n",
    "D_combined_reviews = preprocess(D_combined_reviews[0])\n",
    "D_combined_reviews.shape"
   ]
  },
  {
   "cell_type": "code",
   "execution_count": 16,
   "metadata": {},
   "outputs": [],
   "source": [
    "def processReviews(reviews, window=5, MAX_VOCAB_SIZE=MAX_VOCAB_SIZE):\n",
    "    vectorizer = CountVectorizer(analyzer=\"word\",tokenizer=None)\n",
    "    train_data_features = vectorizer.fit_transform(reviews)\n",
    "    words = vectorizer.get_feature_names()\n",
    "    vocabulary = dict(zip(words,np.arange(len(words))))\n",
    "    inv_vocabulary = dict(zip(np.arange(len(words)),words))\n",
    "    wordOccurenceMatrix = train_data_features.toarray()\n",
    "    return wordOccurenceMatrix, vocabulary, words"
   ]
  },
  {
   "cell_type": "code",
   "execution_count": 17,
   "metadata": {
    "scrolled": true
   },
   "outputs": [],
   "source": [
    "matrix, vocabulary, words = processReviews(D_combined_reviews)"
   ]
  },
  {
   "cell_type": "code",
   "execution_count": null,
   "metadata": {},
   "outputs": [],
   "source": []
  },
  {
   "cell_type": "markdown",
   "metadata": {},
   "source": [
    "## PMF"
   ]
  },
  {
   "cell_type": "code",
   "execution_count": 18,
   "metadata": {},
   "outputs": [],
   "source": [
    "U_user_weights = np.random.rand(numtopics, M_users_count)\n",
    "V_item_weights = np.random.rand(numtopics, N_items_count)"
   ]
  },
  {
   "cell_type": "code",
   "execution_count": 19,
   "metadata": {},
   "outputs": [
    {
     "data": {
      "text/plain": [
       "((5, 2928), (5, 1835))"
      ]
     },
     "execution_count": 19,
     "metadata": {},
     "output_type": "execute_result"
    }
   ],
   "source": [
    "U_user_weights.shape, V_item_weights.shape"
   ]
  },
  {
   "cell_type": "markdown",
   "metadata": {},
   "source": [
    "## HFT"
   ]
  },
  {
   "cell_type": "code",
   "execution_count": 20,
   "metadata": {},
   "outputs": [],
   "source": [
    "beta = 0.01\n",
    "alpha = 10/numtopics * np.ones(numtopics)"
   ]
  },
  {
   "cell_type": "code",
   "execution_count": 21,
   "metadata": {},
   "outputs": [],
   "source": [
    "# sampler = SentimentLDAGibbsSampler(numtopics, alpha, beta)\n",
    "sampler = lda2.LdaSampler(n_topics=numtopics, matrix_shape=matrix.shape, lambda_param=lambda_param)"
   ]
  },
  {
   "cell_type": "code",
   "execution_count": 22,
   "metadata": {},
   "outputs": [
    {
     "data": {
      "text/plain": [
       "(5, array([2., 2., 2., 2., 2.]), 0.01)"
      ]
     },
     "execution_count": 22,
     "metadata": {},
     "output_type": "execute_result"
    }
   ],
   "source": [
    "numtopics, alpha, beta"
   ]
  },
  {
   "cell_type": "markdown",
   "metadata": {},
   "source": [
    "## LSTM"
   ]
  },
  {
   "cell_type": "code",
   "execution_count": 23,
   "metadata": {},
   "outputs": [],
   "source": [
    "lstm_out = 128\n",
    "batch_size = 8\n",
    "p_embedding_lstm = 200"
   ]
  },
  {
   "cell_type": "code",
   "execution_count": 24,
   "metadata": {},
   "outputs": [
    {
     "name": "stderr",
     "output_type": "stream",
     "text": [
      "/root/miniconda3/envs/python2/lib/python2.7/site-packages/keras_preprocessing/text.py:178: UserWarning: The `nb_words` argument in `Tokenizer` has been renamed `num_words`.\n",
      "  warnings.warn('The `nb_words` argument in `Tokenizer` '\n"
     ]
    }
   ],
   "source": [
    "X = get_x_lstm(MAX_VOCAB_SIZE, D_combined_reviews.values)"
   ]
  },
  {
   "cell_type": "code",
   "execution_count": 25,
   "metadata": {},
   "outputs": [
    {
     "name": "stderr",
     "output_type": "stream",
     "text": [
      "WARNING: Logging before flag parsing goes to stderr.\n",
      "W0628 12:53:44.348578 140557525628288 deprecation_wrapper.py:119] From /root/miniconda3/envs/python2/lib/python2.7/site-packages/keras/backend/tensorflow_backend.py:74: The name tf.get_default_graph is deprecated. Please use tf.compat.v1.get_default_graph instead.\n",
      "\n",
      "W0628 12:53:44.373152 140557525628288 deprecation_wrapper.py:119] From /root/miniconda3/envs/python2/lib/python2.7/site-packages/keras/backend/tensorflow_backend.py:517: The name tf.placeholder is deprecated. Please use tf.compat.v1.placeholder instead.\n",
      "\n",
      "W0628 12:53:44.377270 140557525628288 deprecation_wrapper.py:119] From /root/miniconda3/envs/python2/lib/python2.7/site-packages/keras/backend/tensorflow_backend.py:4138: The name tf.random_uniform is deprecated. Please use tf.random.uniform instead.\n",
      "\n",
      "W0628 12:53:44.542172 140557525628288 deprecation_wrapper.py:119] From /root/miniconda3/envs/python2/lib/python2.7/site-packages/keras/backend/tensorflow_backend.py:133: The name tf.placeholder_with_default is deprecated. Please use tf.compat.v1.placeholder_with_default instead.\n",
      "\n",
      "W0628 12:53:44.556442 140557525628288 deprecation.py:506] From /root/miniconda3/envs/python2/lib/python2.7/site-packages/keras/backend/tensorflow_backend.py:3445: calling dropout (from tensorflow.python.ops.nn_ops) with keep_prob is deprecated and will be removed in a future version.\n",
      "Instructions for updating:\n",
      "Please use `rate` instead of `keep_prob`. Rate should be set to `rate = 1 - keep_prob`.\n",
      "W0628 12:53:44.849461 140557525628288 deprecation_wrapper.py:119] From /root/miniconda3/envs/python2/lib/python2.7/site-packages/keras/optimizers.py:790: The name tf.train.Optimizer is deprecated. Please use tf.compat.v1.train.Optimizer instead.\n",
      "\n"
     ]
    }
   ],
   "source": [
    "model = Sequential()\n",
    "model.add(Embedding(MAX_VOCAB_SIZE, p_embedding_lstm, input_length=X.shape[1]))\n",
    "model.add(LSTM(lstm_out, dropout = 0.2))\n",
    "model.add(Dense(5, activation='tanh', name =\"doc_latent_vector\", kernel_regularizer=regularizers.l2()))\n",
    "model.compile(loss = 'mean_squared_error', optimizer='rmsprop', metrics = ['accuracy'])"
   ]
  },
  {
   "cell_type": "code",
   "execution_count": 26,
   "metadata": {
    "scrolled": true
   },
   "outputs": [
    {
     "name": "stdout",
     "output_type": "stream",
     "text": [
      "_________________________________________________________________\n",
      "Layer (type)                 Output Shape              Param #   \n",
      "=================================================================\n",
      "embedding_1 (Embedding)      (None, 2103, 200)         20000     \n",
      "_________________________________________________________________\n",
      "lstm_1 (LSTM)                (None, 128)               168448    \n",
      "_________________________________________________________________\n",
      "doc_latent_vector (Dense)    (None, 5)                 645       \n",
      "=================================================================\n",
      "Total params: 189,093\n",
      "Trainable params: 189,093\n",
      "Non-trainable params: 0\n",
      "_________________________________________________________________\n"
     ]
    }
   ],
   "source": [
    "model.summary()"
   ]
  },
  {
   "cell_type": "code",
   "execution_count": 27,
   "metadata": {},
   "outputs": [],
   "source": [
    "def get_last_layer_op():\n",
    "    intermediate_layer_model = Model(inputs=model.input,\n",
    "                                     outputs=model.get_layer('doc_latent_vector').output)\n",
    "    return intermediate_layer_model.predict(X)"
   ]
  },
  {
   "cell_type": "markdown",
   "metadata": {},
   "source": [
    "### Loss"
   ]
  },
  {
   "cell_type": "code",
   "execution_count": 28,
   "metadata": {},
   "outputs": [],
   "source": [
    "def get_l1():\n",
    "    l1 = 0\n",
    "    for i in range(M_users_count):\n",
    "        for j in range(N_items_count):\n",
    "            if R_rating[i][j]>0:\n",
    "                l1 += (R_rating[i][j] - np.dot(U_user_weights.T[i], V_item_weights.T[j]))**2\n",
    "    return l1"
   ]
  },
  {
   "cell_type": "code",
   "execution_count": 29,
   "metadata": {},
   "outputs": [],
   "source": [
    "def get_l3():\n",
    "    return LA.norm(U_user_weights, 'fro')"
   ]
  },
  {
   "cell_type": "code",
   "execution_count": 30,
   "metadata": {},
   "outputs": [],
   "source": [
    "def get_l4():\n",
    "    return LA.norm(V_item_weights.T - get_last_layer_op(), 'fro')"
   ]
  },
  {
   "cell_type": "code",
   "execution_count": 31,
   "metadata": {},
   "outputs": [],
   "source": [
    "def get_total_loss():\n",
    "    return get_l1() + lambda_u * get_l3() + lambda_v * get_l4()"
   ]
  },
  {
   "cell_type": "code",
   "execution_count": null,
   "metadata": {},
   "outputs": [],
   "source": []
  },
  {
   "cell_type": "markdown",
   "metadata": {},
   "source": [
    "## Gradient V"
   ]
  },
  {
   "cell_type": "code",
   "execution_count": 32,
   "metadata": {},
   "outputs": [],
   "source": [
    "def get_gradient_V(sampler, lstm_last_layer):\n",
    "    param_k = 0.1\n",
    "    peakiness = 1\n",
    "    lambda_t = 0.01\n",
    "    param_Nj = matrix.sum(axis=1)\n",
    "    param_njk = sampler.nmz.copy()\n",
    "    dt_distribution = sampler.theta()\n",
    "\n",
    "    diff_lv = []\n",
    "    for j in range(N_items_count):\n",
    "        temp_sums = [0]*5\n",
    "        for i in range(M_users_count):\n",
    "            if R_rating[i][j]>0:\n",
    "                temp_sums += (R_rating[i][j] - np.dot(U_user_weights.T[i], V_item_weights.T[j]))*U_user_weights.T[i]\n",
    "        temp_sums += 2 * lambda_v * (V_item_weights.T[j] - lstm_last_layer[j])\n",
    "        temp_sums -= lambda_t*peakiness*(param_njk[j] - param_Nj[j]*dt_distribution[j]).sum()\n",
    "        diff_lv.append(list(temp_sums))\n",
    "    diff_lv = np.array(diff_lv)\n",
    "    # diff_lv -= lambda_t*peakiness*(param_njk - param_Nj*sampler.dt_distribution)\n",
    "    return diff_lv"
   ]
  },
  {
   "cell_type": "markdown",
   "metadata": {},
   "source": [
    "## Gradinet U"
   ]
  },
  {
   "cell_type": "code",
   "execution_count": 33,
   "metadata": {},
   "outputs": [],
   "source": [
    "def get_gradient_U():\n",
    "    diff_lu = []\n",
    "\n",
    "    for i in range(M_users_count):\n",
    "        temp_sums = [0]*5\n",
    "        for j in range(N_items_count):\n",
    "            if R_rating[i][j]>0:\n",
    "                temp_sums += (R_rating[i][j] - np.dot(U_user_weights.T[i], V_item_weights.T[j]))*V_item_weights.T[j]\n",
    "        temp_sums += 2 * lambda_u * U_user_weights.T[i]\n",
    "        diff_lu.append(list(temp_sums))\n",
    "    diff_lu = np.array(diff_lu)\n",
    "    return diff_lu"
   ]
  },
  {
   "cell_type": "markdown",
   "metadata": {},
   "source": [
    "## Gradinet phi"
   ]
  },
  {
   "cell_type": "code",
   "execution_count": 34,
   "metadata": {},
   "outputs": [],
   "source": [
    "def get_gradient_Phi(sampler, Phi_weights):\n",
    "    param_nkw = sampler.nzw.T\n",
    "    param_Nk = sampler.nzw.sum(axis=1)\n",
    "    diff_phi = []\n",
    "    for w in range(MAX_VOCAB_SIZE):\n",
    "        param_zw = np.exp(Phi_weights[w]).sum()\n",
    "        temp_phi = []\n",
    "        for k in range(numtopics):\n",
    "            temp_phi.append(param_nkw[w, k] - (param_Nk[k] * np.exp(Phi_weights[w, k])/param_zw))\n",
    "        diff_phi.append(temp_phi)\n",
    "    diff_phi = np.array(diff_phi)\n",
    "    return diff_phi"
   ]
  },
  {
   "cell_type": "code",
   "execution_count": null,
   "metadata": {},
   "outputs": [],
   "source": []
  },
  {
   "cell_type": "markdown",
   "metadata": {},
   "source": [
    "# RUN"
   ]
  },
  {
   "cell_type": "code",
   "execution_count": 35,
   "metadata": {},
   "outputs": [],
   "source": [
    "maxiter_hft = 10\n",
    "learning_rate_pmf = learning_rate_hft = 0.01\n",
    "Phi_weights = np.random.rand(MAX_VOCAB_SIZE, numtopics)"
   ]
  },
  {
   "cell_type": "code",
   "execution_count": 36,
   "metadata": {
    "scrolled": false
   },
   "outputs": [
    {
     "name": "stdout",
     "output_type": "stream",
     "text": [
      "('==============================', '\\niteration', 0)\n"
     ]
    },
    {
     "name": "stderr",
     "output_type": "stream",
     "text": [
      "W0628 12:53:45.325187 140557525628288 deprecation.py:323] From /root/miniconda3/envs/python2/lib/python2.7/site-packages/tensorflow/python/ops/math_grad.py:1250: where (from tensorflow.python.ops.array_ops) is deprecated and will be removed in a future version.\n",
      "Instructions for updating:\n",
      "Use tf.where in 2.0, which has the same broadcast rule as np.where\n",
      "W0628 12:53:46.582144 140557525628288 deprecation_wrapper.py:119] From /root/miniconda3/envs/python2/lib/python2.7/site-packages/keras/backend/tensorflow_backend.py:986: The name tf.assign_add is deprecated. Please use tf.compat.v1.assign_add instead.\n",
      "\n"
     ]
    },
    {
     "name": "stdout",
     "output_type": "stream",
     "text": [
      "Epoch 1/5\n",
      "1835/1835 [==============================] - 93s 51ms/step - loss: 0.2254 - acc: 0.1973\n",
      "Epoch 2/5\n",
      "1835/1835 [==============================] - 87s 48ms/step - loss: 0.1587 - acc: 0.1978\n",
      "Epoch 3/5\n",
      "1835/1835 [==============================] - 89s 48ms/step - loss: 0.1439 - acc: 0.2251\n",
      "Epoch 4/5\n",
      "1835/1835 [==============================] - 83s 45ms/step - loss: 0.1336 - acc: 0.2300\n",
      "Epoch 5/5\n",
      "1835/1835 [==============================] - 88s 48ms/step - loss: 0.1247 - acc: 0.2365\n",
      "\n",
      "Extracting Gradients...\n",
      "\n",
      "Updating Gradients...\n",
      "(10023.844529642285, 71.85223904829498, 28.831003643404127)\n",
      "Epoch 1/5\n",
      "1835/1835 [==============================] - 86s 47ms/step - loss: 0.1236 - acc: 0.2458\n",
      "Epoch 2/5\n",
      "1835/1835 [==============================] - 86s 47ms/step - loss: 0.1176 - acc: 0.2403\n",
      "Epoch 3/5\n",
      "1835/1835 [==============================] - 88s 48ms/step - loss: 0.1117 - acc: 0.2436\n",
      "Epoch 4/5\n",
      "1835/1835 [==============================] - 85s 46ms/step - loss: 0.1073 - acc: 0.2578\n",
      "Epoch 5/5\n",
      "1835/1835 [==============================] - 88s 48ms/step - loss: 0.1043 - acc: 0.2556\n",
      "\n",
      "Extracting Gradients...\n",
      "\n",
      "Updating Gradients...\n",
      "(22520.26487018128, 73.69168679415401, 32.10151705946647)\n",
      "Epoch 1/5\n",
      "1835/1835 [==============================] - 90s 49ms/step - loss: 0.1243 - acc: 0.2589\n",
      "Epoch 2/5\n",
      "1835/1835 [==============================] - 97s 53ms/step - loss: 0.1222 - acc: 0.2599\n",
      "Epoch 3/5\n",
      "1835/1835 [==============================] - 91s 50ms/step - loss: 0.1203 - acc: 0.2599\n",
      "Epoch 4/5\n"
     ]
    },
    {
     "ename": "KeyboardInterrupt",
     "evalue": "",
     "output_type": "error",
     "traceback": [
      "\u001b[0;31m---------------------------------------------------------------------------\u001b[0m",
      "\u001b[0;31mKeyboardInterrupt\u001b[0m                         Traceback (most recent call last)",
      "\u001b[0;32m<ipython-input-36-b2306a4f3abf>\u001b[0m in \u001b[0;36m<module>\u001b[0;34m()\u001b[0m\n\u001b[1;32m      5\u001b[0m \u001b[0;34m\u001b[0m\u001b[0m\n\u001b[1;32m      6\u001b[0m     \u001b[0;32mfor\u001b[0m \u001b[0mi\u001b[0m \u001b[0;32min\u001b[0m \u001b[0mrange\u001b[0m\u001b[0;34m(\u001b[0m\u001b[0;36m5\u001b[0m\u001b[0;34m)\u001b[0m\u001b[0;34m:\u001b[0m\u001b[0;34m\u001b[0m\u001b[0m\n\u001b[0;32m----> 7\u001b[0;31m         \u001b[0mmodel\u001b[0m\u001b[0;34m.\u001b[0m\u001b[0mfit\u001b[0m\u001b[0;34m(\u001b[0m\u001b[0mX\u001b[0m\u001b[0;34m,\u001b[0m \u001b[0mV_item_weights\u001b[0m\u001b[0;34m.\u001b[0m\u001b[0mT\u001b[0m\u001b[0;34m,\u001b[0m \u001b[0mepochs\u001b[0m\u001b[0;34m=\u001b[0m\u001b[0;36m5\u001b[0m\u001b[0;34m,\u001b[0m \u001b[0mbatch_size\u001b[0m\u001b[0;34m=\u001b[0m\u001b[0;36m128\u001b[0m\u001b[0;34m)\u001b[0m\u001b[0;34m\u001b[0m\u001b[0m\n\u001b[0m\u001b[1;32m      8\u001b[0m         \u001b[0mlstm_last_layer\u001b[0m \u001b[0;34m=\u001b[0m \u001b[0mget_last_layer_op\u001b[0m\u001b[0;34m(\u001b[0m\u001b[0;34m)\u001b[0m\u001b[0;34m\u001b[0m\u001b[0m\n\u001b[1;32m      9\u001b[0m \u001b[0;34m\u001b[0m\u001b[0m\n",
      "\u001b[0;32m/root/miniconda3/envs/python2/lib/python2.7/site-packages/keras/engine/training.pyc\u001b[0m in \u001b[0;36mfit\u001b[0;34m(self, x, y, batch_size, epochs, verbose, callbacks, validation_split, validation_data, shuffle, class_weight, sample_weight, initial_epoch, steps_per_epoch, validation_steps, **kwargs)\u001b[0m\n\u001b[1;32m   1037\u001b[0m                                         \u001b[0minitial_epoch\u001b[0m\u001b[0;34m=\u001b[0m\u001b[0minitial_epoch\u001b[0m\u001b[0;34m,\u001b[0m\u001b[0;34m\u001b[0m\u001b[0m\n\u001b[1;32m   1038\u001b[0m                                         \u001b[0msteps_per_epoch\u001b[0m\u001b[0;34m=\u001b[0m\u001b[0msteps_per_epoch\u001b[0m\u001b[0;34m,\u001b[0m\u001b[0;34m\u001b[0m\u001b[0m\n\u001b[0;32m-> 1039\u001b[0;31m                                         validation_steps=validation_steps)\n\u001b[0m\u001b[1;32m   1040\u001b[0m \u001b[0;34m\u001b[0m\u001b[0m\n\u001b[1;32m   1041\u001b[0m     def evaluate(self, x=None, y=None,\n",
      "\u001b[0;32m/root/miniconda3/envs/python2/lib/python2.7/site-packages/keras/engine/training_arrays.pyc\u001b[0m in \u001b[0;36mfit_loop\u001b[0;34m(model, f, ins, out_labels, batch_size, epochs, verbose, callbacks, val_f, val_ins, shuffle, callback_metrics, initial_epoch, steps_per_epoch, validation_steps)\u001b[0m\n\u001b[1;32m    197\u001b[0m                     \u001b[0mins_batch\u001b[0m\u001b[0;34m[\u001b[0m\u001b[0mi\u001b[0m\u001b[0;34m]\u001b[0m \u001b[0;34m=\u001b[0m \u001b[0mins_batch\u001b[0m\u001b[0;34m[\u001b[0m\u001b[0mi\u001b[0m\u001b[0;34m]\u001b[0m\u001b[0;34m.\u001b[0m\u001b[0mtoarray\u001b[0m\u001b[0;34m(\u001b[0m\u001b[0;34m)\u001b[0m\u001b[0;34m\u001b[0m\u001b[0m\n\u001b[1;32m    198\u001b[0m \u001b[0;34m\u001b[0m\u001b[0m\n\u001b[0;32m--> 199\u001b[0;31m                 \u001b[0mouts\u001b[0m \u001b[0;34m=\u001b[0m \u001b[0mf\u001b[0m\u001b[0;34m(\u001b[0m\u001b[0mins_batch\u001b[0m\u001b[0;34m)\u001b[0m\u001b[0;34m\u001b[0m\u001b[0m\n\u001b[0m\u001b[1;32m    200\u001b[0m                 \u001b[0mouts\u001b[0m \u001b[0;34m=\u001b[0m \u001b[0mto_list\u001b[0m\u001b[0;34m(\u001b[0m\u001b[0mouts\u001b[0m\u001b[0;34m)\u001b[0m\u001b[0;34m\u001b[0m\u001b[0m\n\u001b[1;32m    201\u001b[0m                 \u001b[0;32mfor\u001b[0m \u001b[0ml\u001b[0m\u001b[0;34m,\u001b[0m \u001b[0mo\u001b[0m \u001b[0;32min\u001b[0m \u001b[0mzip\u001b[0m\u001b[0;34m(\u001b[0m\u001b[0mout_labels\u001b[0m\u001b[0;34m,\u001b[0m \u001b[0mouts\u001b[0m\u001b[0;34m)\u001b[0m\u001b[0;34m:\u001b[0m\u001b[0;34m\u001b[0m\u001b[0m\n",
      "\u001b[0;32m/root/miniconda3/envs/python2/lib/python2.7/site-packages/keras/backend/tensorflow_backend.pyc\u001b[0m in \u001b[0;36m__call__\u001b[0;34m(self, inputs)\u001b[0m\n\u001b[1;32m   2713\u001b[0m                 \u001b[0;32mreturn\u001b[0m \u001b[0mself\u001b[0m\u001b[0;34m.\u001b[0m\u001b[0m_legacy_call\u001b[0m\u001b[0;34m(\u001b[0m\u001b[0minputs\u001b[0m\u001b[0;34m)\u001b[0m\u001b[0;34m\u001b[0m\u001b[0m\n\u001b[1;32m   2714\u001b[0m \u001b[0;34m\u001b[0m\u001b[0m\n\u001b[0;32m-> 2715\u001b[0;31m             \u001b[0;32mreturn\u001b[0m \u001b[0mself\u001b[0m\u001b[0;34m.\u001b[0m\u001b[0m_call\u001b[0m\u001b[0;34m(\u001b[0m\u001b[0minputs\u001b[0m\u001b[0;34m)\u001b[0m\u001b[0;34m\u001b[0m\u001b[0m\n\u001b[0m\u001b[1;32m   2716\u001b[0m         \u001b[0;32melse\u001b[0m\u001b[0;34m:\u001b[0m\u001b[0;34m\u001b[0m\u001b[0m\n\u001b[1;32m   2717\u001b[0m             \u001b[0;32mif\u001b[0m \u001b[0mpy_any\u001b[0m\u001b[0;34m(\u001b[0m\u001b[0mis_tensor\u001b[0m\u001b[0;34m(\u001b[0m\u001b[0mx\u001b[0m\u001b[0;34m)\u001b[0m \u001b[0;32mfor\u001b[0m \u001b[0mx\u001b[0m \u001b[0;32min\u001b[0m \u001b[0minputs\u001b[0m\u001b[0;34m)\u001b[0m\u001b[0;34m:\u001b[0m\u001b[0;34m\u001b[0m\u001b[0m\n",
      "\u001b[0;32m/root/miniconda3/envs/python2/lib/python2.7/site-packages/keras/backend/tensorflow_backend.pyc\u001b[0m in \u001b[0;36m_call\u001b[0;34m(self, inputs)\u001b[0m\n\u001b[1;32m   2673\u001b[0m             \u001b[0mfetched\u001b[0m \u001b[0;34m=\u001b[0m \u001b[0mself\u001b[0m\u001b[0;34m.\u001b[0m\u001b[0m_callable_fn\u001b[0m\u001b[0;34m(\u001b[0m\u001b[0;34m*\u001b[0m\u001b[0marray_vals\u001b[0m\u001b[0;34m,\u001b[0m \u001b[0mrun_metadata\u001b[0m\u001b[0;34m=\u001b[0m\u001b[0mself\u001b[0m\u001b[0;34m.\u001b[0m\u001b[0mrun_metadata\u001b[0m\u001b[0;34m)\u001b[0m\u001b[0;34m\u001b[0m\u001b[0m\n\u001b[1;32m   2674\u001b[0m         \u001b[0;32melse\u001b[0m\u001b[0;34m:\u001b[0m\u001b[0;34m\u001b[0m\u001b[0m\n\u001b[0;32m-> 2675\u001b[0;31m             \u001b[0mfetched\u001b[0m \u001b[0;34m=\u001b[0m \u001b[0mself\u001b[0m\u001b[0;34m.\u001b[0m\u001b[0m_callable_fn\u001b[0m\u001b[0;34m(\u001b[0m\u001b[0;34m*\u001b[0m\u001b[0marray_vals\u001b[0m\u001b[0;34m)\u001b[0m\u001b[0;34m\u001b[0m\u001b[0m\n\u001b[0m\u001b[1;32m   2676\u001b[0m         \u001b[0;32mreturn\u001b[0m \u001b[0mfetched\u001b[0m\u001b[0;34m[\u001b[0m\u001b[0;34m:\u001b[0m\u001b[0mlen\u001b[0m\u001b[0;34m(\u001b[0m\u001b[0mself\u001b[0m\u001b[0;34m.\u001b[0m\u001b[0moutputs\u001b[0m\u001b[0;34m)\u001b[0m\u001b[0;34m]\u001b[0m\u001b[0;34m\u001b[0m\u001b[0m\n\u001b[1;32m   2677\u001b[0m \u001b[0;34m\u001b[0m\u001b[0m\n",
      "\u001b[0;32m/root/miniconda3/envs/python2/lib/python2.7/site-packages/tensorflow/python/client/session.pyc\u001b[0m in \u001b[0;36m__call__\u001b[0;34m(self, *args, **kwargs)\u001b[0m\n\u001b[1;32m   1456\u001b[0m         ret = tf_session.TF_SessionRunCallable(self._session._session,\n\u001b[1;32m   1457\u001b[0m                                                \u001b[0mself\u001b[0m\u001b[0;34m.\u001b[0m\u001b[0m_handle\u001b[0m\u001b[0;34m,\u001b[0m \u001b[0margs\u001b[0m\u001b[0;34m,\u001b[0m\u001b[0;34m\u001b[0m\u001b[0m\n\u001b[0;32m-> 1458\u001b[0;31m                                                run_metadata_ptr)\n\u001b[0m\u001b[1;32m   1459\u001b[0m         \u001b[0;32mif\u001b[0m \u001b[0mrun_metadata\u001b[0m\u001b[0;34m:\u001b[0m\u001b[0;34m\u001b[0m\u001b[0m\n\u001b[1;32m   1460\u001b[0m           \u001b[0mproto_data\u001b[0m \u001b[0;34m=\u001b[0m \u001b[0mtf_session\u001b[0m\u001b[0;34m.\u001b[0m\u001b[0mTF_GetBuffer\u001b[0m\u001b[0;34m(\u001b[0m\u001b[0mrun_metadata_ptr\u001b[0m\u001b[0;34m)\u001b[0m\u001b[0;34m\u001b[0m\u001b[0m\n",
      "\u001b[0;31mKeyboardInterrupt\u001b[0m: "
     ]
    }
   ],
   "source": [
    "iterations = 10\n",
    "for i in range(iterations):\n",
    "    print(\"=\"*30, \"\\niteration\", i)\n",
    "    sampler.run(matrix, maxiter_hft)\n",
    "    \n",
    "    for i in range(5):\n",
    "        model.fit(X, V_item_weights.T, epochs=5, batch_size=128)\n",
    "        lstm_last_layer = get_last_layer_op()\n",
    "\n",
    "        print(\"\\nExtracting Gradients...\")\n",
    "        gradient_v = get_gradient_V(sampler, lstm_last_layer)\n",
    "        gradient_u = get_gradient_U()\n",
    "        gradient_phi = get_gradient_Phi(sampler, Phi_weights)\n",
    "\n",
    "        print(\"\\nUpdating Gradients...\")\n",
    "        U_user_weights -= learning_rate_pmf * gradient_u.T\n",
    "        V_item_weights -= learning_rate_pmf * gradient_v.T\n",
    "        Phi_weights -= learning_rate_hft * gradient_phi\n",
    "    \n",
    "        print(get_l1(), get_l3(), get_l4())"
   ]
  },
  {
   "cell_type": "code",
   "execution_count": null,
   "metadata": {},
   "outputs": [],
   "source": []
  },
  {
   "cell_type": "code",
   "execution_count": null,
   "metadata": {},
   "outputs": [],
   "source": []
  },
  {
   "cell_type": "code",
   "execution_count": null,
   "metadata": {},
   "outputs": [],
   "source": []
  },
  {
   "cell_type": "code",
   "execution_count": null,
   "metadata": {},
   "outputs": [],
   "source": []
  },
  {
   "cell_type": "code",
   "execution_count": null,
   "metadata": {},
   "outputs": [],
   "source": []
  },
  {
   "cell_type": "code",
   "execution_count": null,
   "metadata": {},
   "outputs": [],
   "source": []
  },
  {
   "cell_type": "code",
   "execution_count": null,
   "metadata": {},
   "outputs": [],
   "source": []
  },
  {
   "cell_type": "code",
   "execution_count": null,
   "metadata": {},
   "outputs": [],
   "source": []
  }
 ],
 "metadata": {
  "kernelspec": {
   "display_name": "Python 2",
   "language": "python",
   "name": "python2"
  },
  "language_info": {
   "codemirror_mode": {
    "name": "ipython",
    "version": 2
   },
   "file_extension": ".py",
   "mimetype": "text/x-python",
   "name": "python",
   "nbconvert_exporter": "python",
   "pygments_lexer": "ipython2",
   "version": "2.7.16"
  }
 },
 "nbformat": 4,
 "nbformat_minor": 2
}
